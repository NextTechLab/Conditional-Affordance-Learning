{
 "cells": [
  {
   "cell_type": "code",
   "execution_count": 52,
   "metadata": {},
   "outputs": [],
   "source": [
    "import pandas as pd\n",
    "import os\n",
    "import numpy as np\n",
    "import torch"
   ]
  },
  {
   "cell_type": "code",
   "execution_count": 2,
   "metadata": {},
   "outputs": [],
   "source": [
    "sd = pd.read_csv('sigData.csv',names=['Frame Number','Affordance Name','Ground Truth Affordance','Predicted Affordance','Confidence Score'])"
   ]
  },
  {
   "cell_type": "code",
   "execution_count": 3,
   "metadata": {},
   "outputs": [
    {
     "data": {
      "text/html": [
       "<div>\n",
       "<style scoped>\n",
       "    .dataframe tbody tr th:only-of-type {\n",
       "        vertical-align: middle;\n",
       "    }\n",
       "\n",
       "    .dataframe tbody tr th {\n",
       "        vertical-align: top;\n",
       "    }\n",
       "\n",
       "    .dataframe thead th {\n",
       "        text-align: right;\n",
       "    }\n",
       "</style>\n",
       "<table border=\"1\" class=\"dataframe\">\n",
       "  <thead>\n",
       "    <tr style=\"text-align: right;\">\n",
       "      <th></th>\n",
       "      <th>Frame Number</th>\n",
       "      <th>Affordance Name</th>\n",
       "      <th>Ground Truth Affordance</th>\n",
       "      <th>Predicted Affordance</th>\n",
       "      <th>Confidence Score</th>\n",
       "    </tr>\n",
       "  </thead>\n",
       "  <tbody>\n",
       "    <tr>\n",
       "      <th>0</th>\n",
       "      <td>1</td>\n",
       "      <td>Hazard</td>\n",
       "      <td>False</td>\n",
       "      <td>False</td>\n",
       "      <td>0.980226</td>\n",
       "    </tr>\n",
       "    <tr>\n",
       "      <th>1</th>\n",
       "      <td>1</td>\n",
       "      <td>Traffic</td>\n",
       "      <td>0</td>\n",
       "      <td>True</td>\n",
       "      <td>0.596183</td>\n",
       "    </tr>\n",
       "    <tr>\n",
       "      <th>2</th>\n",
       "      <td>1</td>\n",
       "      <td>SpeedSign</td>\n",
       "      <td>-1</td>\n",
       "      <td>-1</td>\n",
       "      <td>0.987572</td>\n",
       "    </tr>\n",
       "    <tr>\n",
       "      <th>3</th>\n",
       "      <td>1</td>\n",
       "      <td>Vehicle</td>\n",
       "      <td>50</td>\n",
       "      <td>50</td>\n",
       "      <td>NaN</td>\n",
       "    </tr>\n",
       "    <tr>\n",
       "      <th>4</th>\n",
       "      <td>1</td>\n",
       "      <td>CenterDist</td>\n",
       "      <td>0.367385968703215</td>\n",
       "      <td>0.348112989432316</td>\n",
       "      <td>NaN</td>\n",
       "    </tr>\n",
       "  </tbody>\n",
       "</table>\n",
       "</div>"
      ],
      "text/plain": [
       "   Frame Number Affordance Name Ground Truth Affordance Predicted Affordance  \\\n",
       "0             1          Hazard                   False                False   \n",
       "1             1         Traffic                       0                 True   \n",
       "2             1       SpeedSign                      -1                   -1   \n",
       "3             1         Vehicle                      50                   50   \n",
       "4             1      CenterDist       0.367385968703215    0.348112989432316   \n",
       "\n",
       "   Confidence Score  \n",
       "0          0.980226  \n",
       "1          0.596183  \n",
       "2          0.987572  \n",
       "3               NaN  \n",
       "4               NaN  "
      ]
     },
     "execution_count": 3,
     "metadata": {},
     "output_type": "execute_result"
    }
   ],
   "source": [
    "sd.head()"
   ]
  },
  {
   "cell_type": "code",
   "execution_count": 4,
   "metadata": {},
   "outputs": [],
   "source": [
    "me = pd.read_csv('measurements.csv')"
   ]
  },
  {
   "cell_type": "code",
   "execution_count": 5,
   "metadata": {},
   "outputs": [
    {
     "data": {
      "text/html": [
       "<div>\n",
       "<style scoped>\n",
       "    .dataframe tbody tr th:only-of-type {\n",
       "        vertical-align: middle;\n",
       "    }\n",
       "\n",
       "    .dataframe tbody tr th {\n",
       "        vertical-align: top;\n",
       "    }\n",
       "\n",
       "    .dataframe thead th {\n",
       "        text-align: right;\n",
       "    }\n",
       "</style>\n",
       "<table border=\"1\" class=\"dataframe\">\n",
       "  <thead>\n",
       "    <tr style=\"text-align: right;\">\n",
       "      <th></th>\n",
       "      <th>pos_x</th>\n",
       "      <th>pos_y</th>\n",
       "      <th>intersection_otherlane</th>\n",
       "      <th>long_accel</th>\n",
       "      <th>intersection_offroad</th>\n",
       "      <th>collision_other</th>\n",
       "      <th>end_point</th>\n",
       "      <th>rep</th>\n",
       "      <th>direction</th>\n",
       "      <th>gametimeStamp</th>\n",
       "      <th>weather</th>\n",
       "      <th>brake</th>\n",
       "      <th>steer</th>\n",
       "      <th>exp_id</th>\n",
       "      <th>throttle</th>\n",
       "      <th>lat_accel</th>\n",
       "      <th>start_point</th>\n",
       "      <th>collision_pedestrians</th>\n",
       "      <th>collision_vehicles</th>\n",
       "      <th>centerDist</th>\n",
       "    </tr>\n",
       "  </thead>\n",
       "  <tbody>\n",
       "    <tr>\n",
       "      <th>0</th>\n",
       "      <td>71.040039</td>\n",
       "      <td>237.429993</td>\n",
       "      <td>0.0</td>\n",
       "      <td>-3.758871e-12</td>\n",
       "      <td>0.0</td>\n",
       "      <td>0.0</td>\n",
       "      <td>8</td>\n",
       "      <td>0</td>\n",
       "      <td>0</td>\n",
       "      <td>100</td>\n",
       "      <td>8</td>\n",
       "      <td>0.0</td>\n",
       "      <td>0.0</td>\n",
       "      <td>0</td>\n",
       "      <td>0.8</td>\n",
       "      <td>-3.093982e-25</td>\n",
       "      <td>34</td>\n",
       "      <td>0.0</td>\n",
       "      <td>0.0</td>\n",
       "      <td>0.367386</td>\n",
       "    </tr>\n",
       "    <tr>\n",
       "      <th>1</th>\n",
       "      <td>71.040039</td>\n",
       "      <td>237.429993</td>\n",
       "      <td>0.0</td>\n",
       "      <td>-3.756992e-12</td>\n",
       "      <td>0.0</td>\n",
       "      <td>0.0</td>\n",
       "      <td>8</td>\n",
       "      <td>0</td>\n",
       "      <td>0</td>\n",
       "      <td>150</td>\n",
       "      <td>8</td>\n",
       "      <td>0.0</td>\n",
       "      <td>0.0</td>\n",
       "      <td>0</td>\n",
       "      <td>0.8</td>\n",
       "      <td>1.965348e-24</td>\n",
       "      <td>34</td>\n",
       "      <td>0.0</td>\n",
       "      <td>0.0</td>\n",
       "      <td>0.367386</td>\n",
       "    </tr>\n",
       "    <tr>\n",
       "      <th>2</th>\n",
       "      <td>71.040039</td>\n",
       "      <td>237.429993</td>\n",
       "      <td>0.0</td>\n",
       "      <td>-3.755115e-12</td>\n",
       "      <td>0.0</td>\n",
       "      <td>0.0</td>\n",
       "      <td>8</td>\n",
       "      <td>0</td>\n",
       "      <td>0</td>\n",
       "      <td>200</td>\n",
       "      <td>8</td>\n",
       "      <td>0.0</td>\n",
       "      <td>0.0</td>\n",
       "      <td>0</td>\n",
       "      <td>0.8</td>\n",
       "      <td>3.929902e-24</td>\n",
       "      <td>34</td>\n",
       "      <td>0.0</td>\n",
       "      <td>0.0</td>\n",
       "      <td>0.367386</td>\n",
       "    </tr>\n",
       "    <tr>\n",
       "      <th>3</th>\n",
       "      <td>71.040039</td>\n",
       "      <td>237.429993</td>\n",
       "      <td>0.0</td>\n",
       "      <td>-3.753234e-12</td>\n",
       "      <td>0.0</td>\n",
       "      <td>0.0</td>\n",
       "      <td>8</td>\n",
       "      <td>0</td>\n",
       "      <td>0</td>\n",
       "      <td>250</td>\n",
       "      <td>8</td>\n",
       "      <td>0.0</td>\n",
       "      <td>0.0</td>\n",
       "      <td>0</td>\n",
       "      <td>0.8</td>\n",
       "      <td>-2.170556e-24</td>\n",
       "      <td>34</td>\n",
       "      <td>0.0</td>\n",
       "      <td>0.0</td>\n",
       "      <td>0.367386</td>\n",
       "    </tr>\n",
       "    <tr>\n",
       "      <th>4</th>\n",
       "      <td>71.040039</td>\n",
       "      <td>237.429993</td>\n",
       "      <td>0.0</td>\n",
       "      <td>-3.751359e-12</td>\n",
       "      <td>0.0</td>\n",
       "      <td>0.0</td>\n",
       "      <td>8</td>\n",
       "      <td>0</td>\n",
       "      <td>0</td>\n",
       "      <td>300</td>\n",
       "      <td>8</td>\n",
       "      <td>0.0</td>\n",
       "      <td>0.0</td>\n",
       "      <td>0</td>\n",
       "      <td>0.8</td>\n",
       "      <td>-3.411327e-24</td>\n",
       "      <td>34</td>\n",
       "      <td>0.0</td>\n",
       "      <td>0.0</td>\n",
       "      <td>0.367386</td>\n",
       "    </tr>\n",
       "  </tbody>\n",
       "</table>\n",
       "</div>"
      ],
      "text/plain": [
       "       pos_x       pos_y  intersection_otherlane    long_accel  \\\n",
       "0  71.040039  237.429993                     0.0 -3.758871e-12   \n",
       "1  71.040039  237.429993                     0.0 -3.756992e-12   \n",
       "2  71.040039  237.429993                     0.0 -3.755115e-12   \n",
       "3  71.040039  237.429993                     0.0 -3.753234e-12   \n",
       "4  71.040039  237.429993                     0.0 -3.751359e-12   \n",
       "\n",
       "   intersection_offroad  collision_other  end_point  rep  direction  \\\n",
       "0                   0.0              0.0          8    0          0   \n",
       "1                   0.0              0.0          8    0          0   \n",
       "2                   0.0              0.0          8    0          0   \n",
       "3                   0.0              0.0          8    0          0   \n",
       "4                   0.0              0.0          8    0          0   \n",
       "\n",
       "   gametimeStamp  weather  brake  steer  exp_id  throttle     lat_accel  \\\n",
       "0            100        8    0.0    0.0       0       0.8 -3.093982e-25   \n",
       "1            150        8    0.0    0.0       0       0.8  1.965348e-24   \n",
       "2            200        8    0.0    0.0       0       0.8  3.929902e-24   \n",
       "3            250        8    0.0    0.0       0       0.8 -2.170556e-24   \n",
       "4            300        8    0.0    0.0       0       0.8 -3.411327e-24   \n",
       "\n",
       "   start_point  collision_pedestrians  collision_vehicles  centerDist  \n",
       "0           34                    0.0                 0.0    0.367386  \n",
       "1           34                    0.0                 0.0    0.367386  \n",
       "2           34                    0.0                 0.0    0.367386  \n",
       "3           34                    0.0                 0.0    0.367386  \n",
       "4           34                    0.0                 0.0    0.367386  "
      ]
     },
     "execution_count": 5,
     "metadata": {},
     "output_type": "execute_result"
    }
   ],
   "source": [
    "me.head()"
   ]
  },
  {
   "cell_type": "code",
   "execution_count": 6,
   "metadata": {},
   "outputs": [],
   "source": [
    "df = pd.DataFrame()"
   ]
  },
  {
   "cell_type": "code",
   "execution_count": 7,
   "metadata": {},
   "outputs": [],
   "source": [
    "sd = sd.drop(['Predicted Affordance','Confidence Score'],axis=1)"
   ]
  },
  {
   "cell_type": "code",
   "execution_count": 8,
   "metadata": {},
   "outputs": [],
   "source": [
    "df = sd.groupby(['Frame Number','Affordance Name']).first()"
   ]
  },
  {
   "cell_type": "code",
   "execution_count": 9,
   "metadata": {},
   "outputs": [],
   "source": [
    "df = df.unstack(level =-1)"
   ]
  },
  {
   "cell_type": "code",
   "execution_count": 10,
   "metadata": {},
   "outputs": [],
   "source": [
    "df.reset_index(inplace=True)"
   ]
  },
  {
   "cell_type": "code",
   "execution_count": 11,
   "metadata": {},
   "outputs": [
    {
     "data": {
      "text/html": [
       "<div>\n",
       "<style scoped>\n",
       "    .dataframe tbody tr th:only-of-type {\n",
       "        vertical-align: middle;\n",
       "    }\n",
       "\n",
       "    .dataframe tbody tr th {\n",
       "        vertical-align: top;\n",
       "    }\n",
       "\n",
       "    .dataframe thead tr th {\n",
       "        text-align: left;\n",
       "    }\n",
       "</style>\n",
       "<table border=\"1\" class=\"dataframe\">\n",
       "  <thead>\n",
       "    <tr>\n",
       "      <th></th>\n",
       "      <th>Frame Number</th>\n",
       "      <th colspan=\"6\" halign=\"left\">Ground Truth Affordance</th>\n",
       "    </tr>\n",
       "    <tr>\n",
       "      <th>Affordance Name</th>\n",
       "      <th></th>\n",
       "      <th>CenterDist</th>\n",
       "      <th>Hazard</th>\n",
       "      <th>Relative Angle</th>\n",
       "      <th>SpeedSign</th>\n",
       "      <th>Traffic</th>\n",
       "      <th>Vehicle</th>\n",
       "    </tr>\n",
       "  </thead>\n",
       "  <tbody>\n",
       "    <tr>\n",
       "      <th>0</th>\n",
       "      <td>1</td>\n",
       "      <td>0.367385968703215</td>\n",
       "      <td>False</td>\n",
       "      <td>-3.141586262</td>\n",
       "      <td>-1</td>\n",
       "      <td>0</td>\n",
       "      <td>50</td>\n",
       "    </tr>\n",
       "    <tr>\n",
       "      <th>1</th>\n",
       "      <td>2</td>\n",
       "      <td>0.367385968703215</td>\n",
       "      <td>False</td>\n",
       "      <td>-3.141586262</td>\n",
       "      <td>-1</td>\n",
       "      <td>0</td>\n",
       "      <td>50</td>\n",
       "    </tr>\n",
       "    <tr>\n",
       "      <th>2</th>\n",
       "      <td>3</td>\n",
       "      <td>0.367385968703215</td>\n",
       "      <td>False</td>\n",
       "      <td>-3.141586262</td>\n",
       "      <td>-1</td>\n",
       "      <td>0</td>\n",
       "      <td>50</td>\n",
       "    </tr>\n",
       "    <tr>\n",
       "      <th>3</th>\n",
       "      <td>4</td>\n",
       "      <td>0.367385968703215</td>\n",
       "      <td>False</td>\n",
       "      <td>-3.141586262</td>\n",
       "      <td>-1</td>\n",
       "      <td>0</td>\n",
       "      <td>50</td>\n",
       "    </tr>\n",
       "    <tr>\n",
       "      <th>4</th>\n",
       "      <td>5</td>\n",
       "      <td>0.367385968703215</td>\n",
       "      <td>False</td>\n",
       "      <td>-3.141586262</td>\n",
       "      <td>-1</td>\n",
       "      <td>0</td>\n",
       "      <td>50</td>\n",
       "    </tr>\n",
       "  </tbody>\n",
       "</table>\n",
       "</div>"
      ],
      "text/plain": [
       "                Frame Number Ground Truth Affordance                        \\\n",
       "Affordance Name                           CenterDist Hazard Relative Angle   \n",
       "0                          1       0.367385968703215  False   -3.141586262   \n",
       "1                          2       0.367385968703215  False   -3.141586262   \n",
       "2                          3       0.367385968703215  False   -3.141586262   \n",
       "3                          4       0.367385968703215  False   -3.141586262   \n",
       "4                          5       0.367385968703215  False   -3.141586262   \n",
       "\n",
       "                                           \n",
       "Affordance Name SpeedSign Traffic Vehicle  \n",
       "0                      -1       0      50  \n",
       "1                      -1       0      50  \n",
       "2                      -1       0      50  \n",
       "3                      -1       0      50  \n",
       "4                      -1       0      50  "
      ]
     },
     "execution_count": 11,
     "metadata": {},
     "output_type": "execute_result"
    }
   ],
   "source": [
    "df.head()"
   ]
  },
  {
   "cell_type": "code",
   "execution_count": 12,
   "metadata": {},
   "outputs": [],
   "source": [
    "dff = pd.DataFrame(df['Ground Truth Affordance'])"
   ]
  },
  {
   "cell_type": "code",
   "execution_count": 13,
   "metadata": {},
   "outputs": [],
   "source": [
    "dff.columns.name = None"
   ]
  },
  {
   "cell_type": "code",
   "execution_count": 14,
   "metadata": {},
   "outputs": [],
   "source": [
    "dff['direction'] = me['direction']"
   ]
  },
  {
   "cell_type": "code",
   "execution_count": 15,
   "metadata": {},
   "outputs": [
    {
     "data": {
      "text/html": [
       "<div>\n",
       "<style scoped>\n",
       "    .dataframe tbody tr th:only-of-type {\n",
       "        vertical-align: middle;\n",
       "    }\n",
       "\n",
       "    .dataframe tbody tr th {\n",
       "        vertical-align: top;\n",
       "    }\n",
       "\n",
       "    .dataframe thead th {\n",
       "        text-align: right;\n",
       "    }\n",
       "</style>\n",
       "<table border=\"1\" class=\"dataframe\">\n",
       "  <thead>\n",
       "    <tr style=\"text-align: right;\">\n",
       "      <th></th>\n",
       "      <th>CenterDist</th>\n",
       "      <th>Hazard</th>\n",
       "      <th>Relative Angle</th>\n",
       "      <th>SpeedSign</th>\n",
       "      <th>Traffic</th>\n",
       "      <th>Vehicle</th>\n",
       "      <th>direction</th>\n",
       "    </tr>\n",
       "  </thead>\n",
       "  <tbody>\n",
       "    <tr>\n",
       "      <th>0</th>\n",
       "      <td>0.367385968703215</td>\n",
       "      <td>False</td>\n",
       "      <td>-3.141586262</td>\n",
       "      <td>-1</td>\n",
       "      <td>0</td>\n",
       "      <td>50</td>\n",
       "      <td>0</td>\n",
       "    </tr>\n",
       "    <tr>\n",
       "      <th>1</th>\n",
       "      <td>0.367385968703215</td>\n",
       "      <td>False</td>\n",
       "      <td>-3.141586262</td>\n",
       "      <td>-1</td>\n",
       "      <td>0</td>\n",
       "      <td>50</td>\n",
       "      <td>0</td>\n",
       "    </tr>\n",
       "    <tr>\n",
       "      <th>2</th>\n",
       "      <td>0.367385968703215</td>\n",
       "      <td>False</td>\n",
       "      <td>-3.141586262</td>\n",
       "      <td>-1</td>\n",
       "      <td>0</td>\n",
       "      <td>50</td>\n",
       "      <td>0</td>\n",
       "    </tr>\n",
       "    <tr>\n",
       "      <th>3</th>\n",
       "      <td>0.367385968703215</td>\n",
       "      <td>False</td>\n",
       "      <td>-3.141586262</td>\n",
       "      <td>-1</td>\n",
       "      <td>0</td>\n",
       "      <td>50</td>\n",
       "      <td>0</td>\n",
       "    </tr>\n",
       "    <tr>\n",
       "      <th>4</th>\n",
       "      <td>0.367385968703215</td>\n",
       "      <td>False</td>\n",
       "      <td>-3.141586262</td>\n",
       "      <td>-1</td>\n",
       "      <td>0</td>\n",
       "      <td>50</td>\n",
       "      <td>0</td>\n",
       "    </tr>\n",
       "  </tbody>\n",
       "</table>\n",
       "</div>"
      ],
      "text/plain": [
       "          CenterDist Hazard Relative Angle SpeedSign Traffic Vehicle  \\\n",
       "0  0.367385968703215  False   -3.141586262        -1       0      50   \n",
       "1  0.367385968703215  False   -3.141586262        -1       0      50   \n",
       "2  0.367385968703215  False   -3.141586262        -1       0      50   \n",
       "3  0.367385968703215  False   -3.141586262        -1       0      50   \n",
       "4  0.367385968703215  False   -3.141586262        -1       0      50   \n",
       "\n",
       "   direction  \n",
       "0          0  \n",
       "1          0  \n",
       "2          0  \n",
       "3          0  \n",
       "4          0  "
      ]
     },
     "execution_count": 15,
     "metadata": {},
     "output_type": "execute_result"
    }
   ],
   "source": [
    "dff.head()"
   ]
  },
  {
   "cell_type": "code",
   "execution_count": 16,
   "metadata": {},
   "outputs": [],
   "source": [
    "dff.columns = ['center_distance','hazard_stop','relative_angle','speed_sign','red_light','veh_distance','direction']"
   ]
  },
  {
   "cell_type": "code",
   "execution_count": 17,
   "metadata": {},
   "outputs": [],
   "source": [
    "red = [i=='2' for i in dff['red_light']]"
   ]
  },
  {
   "cell_type": "code",
   "execution_count": 18,
   "metadata": {},
   "outputs": [],
   "source": [
    "dff['red_light']=red"
   ]
  },
  {
   "cell_type": "code",
   "execution_count": 19,
   "metadata": {},
   "outputs": [],
   "source": [
    "path = '/home/vasu/Desktop/project/CameraRGB'\n",
    "l=os.listdir(path)\n",
    "li=[x for x in l]"
   ]
  },
  {
   "cell_type": "code",
   "execution_count": 20,
   "metadata": {},
   "outputs": [],
   "source": [
    "li.sort()"
   ]
  },
  {
   "cell_type": "code",
   "execution_count": 21,
   "metadata": {},
   "outputs": [],
   "source": [
    "dff['im_name']=li"
   ]
  },
  {
   "cell_type": "code",
   "execution_count": 22,
   "metadata": {},
   "outputs": [
    {
     "data": {
      "text/html": [
       "<div>\n",
       "<style scoped>\n",
       "    .dataframe tbody tr th:only-of-type {\n",
       "        vertical-align: middle;\n",
       "    }\n",
       "\n",
       "    .dataframe tbody tr th {\n",
       "        vertical-align: top;\n",
       "    }\n",
       "\n",
       "    .dataframe thead th {\n",
       "        text-align: right;\n",
       "    }\n",
       "</style>\n",
       "<table border=\"1\" class=\"dataframe\">\n",
       "  <thead>\n",
       "    <tr style=\"text-align: right;\">\n",
       "      <th></th>\n",
       "      <th>center_distance</th>\n",
       "      <th>hazard_stop</th>\n",
       "      <th>relative_angle</th>\n",
       "      <th>speed_sign</th>\n",
       "      <th>red_light</th>\n",
       "      <th>veh_distance</th>\n",
       "      <th>direction</th>\n",
       "      <th>im_name</th>\n",
       "    </tr>\n",
       "  </thead>\n",
       "  <tbody>\n",
       "    <tr>\n",
       "      <th>0</th>\n",
       "      <td>0.367385968703215</td>\n",
       "      <td>False</td>\n",
       "      <td>-3.141586262</td>\n",
       "      <td>-1</td>\n",
       "      <td>False</td>\n",
       "      <td>50</td>\n",
       "      <td>0</td>\n",
       "      <td>image_00000.jpg.png</td>\n",
       "    </tr>\n",
       "    <tr>\n",
       "      <th>1</th>\n",
       "      <td>0.367385968703215</td>\n",
       "      <td>False</td>\n",
       "      <td>-3.141586262</td>\n",
       "      <td>-1</td>\n",
       "      <td>False</td>\n",
       "      <td>50</td>\n",
       "      <td>0</td>\n",
       "      <td>image_00001.jpg.png</td>\n",
       "    </tr>\n",
       "    <tr>\n",
       "      <th>2</th>\n",
       "      <td>0.367385968703215</td>\n",
       "      <td>False</td>\n",
       "      <td>-3.141586262</td>\n",
       "      <td>-1</td>\n",
       "      <td>False</td>\n",
       "      <td>50</td>\n",
       "      <td>0</td>\n",
       "      <td>image_00002.jpg.png</td>\n",
       "    </tr>\n",
       "    <tr>\n",
       "      <th>3</th>\n",
       "      <td>0.367385968703215</td>\n",
       "      <td>False</td>\n",
       "      <td>-3.141586262</td>\n",
       "      <td>-1</td>\n",
       "      <td>False</td>\n",
       "      <td>50</td>\n",
       "      <td>0</td>\n",
       "      <td>image_00003.jpg.png</td>\n",
       "    </tr>\n",
       "    <tr>\n",
       "      <th>4</th>\n",
       "      <td>0.367385968703215</td>\n",
       "      <td>False</td>\n",
       "      <td>-3.141586262</td>\n",
       "      <td>-1</td>\n",
       "      <td>False</td>\n",
       "      <td>50</td>\n",
       "      <td>0</td>\n",
       "      <td>image_00004.jpg.png</td>\n",
       "    </tr>\n",
       "  </tbody>\n",
       "</table>\n",
       "</div>"
      ],
      "text/plain": [
       "     center_distance hazard_stop relative_angle speed_sign  red_light  \\\n",
       "0  0.367385968703215       False   -3.141586262         -1      False   \n",
       "1  0.367385968703215       False   -3.141586262         -1      False   \n",
       "2  0.367385968703215       False   -3.141586262         -1      False   \n",
       "3  0.367385968703215       False   -3.141586262         -1      False   \n",
       "4  0.367385968703215       False   -3.141586262         -1      False   \n",
       "\n",
       "  veh_distance  direction              im_name  \n",
       "0           50          0  image_00000.jpg.png  \n",
       "1           50          0  image_00001.jpg.png  \n",
       "2           50          0  image_00002.jpg.png  \n",
       "3           50          0  image_00003.jpg.png  \n",
       "4           50          0  image_00004.jpg.png  "
      ]
     },
     "execution_count": 22,
     "metadata": {},
     "output_type": "execute_result"
    }
   ],
   "source": [
    "dff.head()"
   ]
  },
  {
   "cell_type": "code",
   "execution_count": 23,
   "metadata": {},
   "outputs": [],
   "source": [
    "p=0.1\n",
    "n = int(len(dff)*(1-p))\n",
    "m = len(dff)-n"
   ]
  },
  {
   "cell_type": "code",
   "execution_count": 24,
   "metadata": {},
   "outputs": [],
   "source": [
    "valid = [False]*n + [True]*m"
   ]
  },
  {
   "cell_type": "code",
   "execution_count": 25,
   "metadata": {},
   "outputs": [
    {
     "data": {
      "text/plain": [
       "list"
      ]
     },
     "execution_count": 25,
     "metadata": {},
     "output_type": "execute_result"
    }
   ],
   "source": [
    "type(valid)"
   ]
  },
  {
   "cell_type": "code",
   "execution_count": 56,
   "metadata": {},
   "outputs": [],
   "source": [
    "isvalid2 = (np.array(valid))"
   ]
  },
  {
   "cell_type": "code",
   "execution_count": 57,
   "metadata": {},
   "outputs": [
    {
     "data": {
      "text/plain": [
       "dtype('bool')"
      ]
     },
     "execution_count": 57,
     "metadata": {},
     "output_type": "execute_result"
    }
   ],
   "source": [
    "isvalid2.dtype"
   ]
  },
  {
   "cell_type": "code",
   "execution_count": 58,
   "metadata": {},
   "outputs": [
    {
     "ename": "TypeError",
     "evalue": "can't convert np.ndarray of type numpy.bool_. The only supported types are: double, float, float16, int64, int32, and uint8.",
     "output_type": "error",
     "traceback": [
      "\u001b[0;31m---------------------------------------------------------------------------\u001b[0m",
      "\u001b[0;31mTypeError\u001b[0m                                 Traceback (most recent call last)",
      "\u001b[0;32m<ipython-input-58-8f980f111b32>\u001b[0m in \u001b[0;36m<module>\u001b[0;34m\u001b[0m\n\u001b[0;32m----> 1\u001b[0;31m \u001b[0misvalid2\u001b[0m \u001b[0;34m=\u001b[0m \u001b[0mtorch\u001b[0m\u001b[0;34m.\u001b[0m\u001b[0mfrom_numpy\u001b[0m\u001b[0;34m(\u001b[0m\u001b[0misvalid2\u001b[0m\u001b[0;34m)\u001b[0m\u001b[0;34m\u001b[0m\u001b[0m\n\u001b[0m",
      "\u001b[0;31mTypeError\u001b[0m: can't convert np.ndarray of type numpy.bool_. The only supported types are: double, float, float16, int64, int32, and uint8."
     ]
    }
   ],
   "source": [
    "#isvalid2 = torch.from_numpy(isvalid2)"
   ]
  },
  {
   "cell_type": "code",
   "execution_count": 59,
   "metadata": {},
   "outputs": [
    {
     "data": {
      "text/plain": [
       "array([False, False, False, False, False, False, False, False, False,\n",
       "       False, False, False, False, False, False, False, False, False,\n",
       "       False, False, False, False, False, False, False, False, False,\n",
       "       False, False, False, False, False, False, False, False, False,\n",
       "       False, False, False, False, False, False, False, False, False,\n",
       "       False, False, False, False, False, False, False, False, False,\n",
       "       False, False, False, False, False, False, False, False, False,\n",
       "       False, False, False, False, False, False, False, False, False,\n",
       "       False, False, False, False, False, False, False, False, False,\n",
       "       False, False, False, False, False, False, False, False, False,\n",
       "       False, False, False, False, False, False, False, False, False,\n",
       "       False, False, False, False, False, False, False, False, False,\n",
       "       False, False, False, False, False, False, False, False, False,\n",
       "       False, False, False, False, False, False, False, False, False,\n",
       "       False, False, False, False, False, False, False, False, False,\n",
       "       False, False, False, False, False, False, False, False, False,\n",
       "       False, False, False, False, False, False, False, False, False,\n",
       "       False, False, False, False, False, False, False, False, False,\n",
       "       False, False, False, False, False, False, False, False, False,\n",
       "       False, False, False, False, False, False, False, False, False,\n",
       "       False, False, False, False, False, False, False, False, False,\n",
       "       False, False, False, False, False, False, False, False, False,\n",
       "       False, False, False, False, False, False, False, False, False,\n",
       "       False, False, False, False, False, False, False, False, False,\n",
       "       False, False, False, False, False, False, False, False, False,\n",
       "       False, False, False, False, False, False, False, False, False,\n",
       "       False, False, False, False, False, False, False, False, False,\n",
       "       False, False, False, False, False, False, False, False, False,\n",
       "       False, False, False, False, False, False, False, False, False,\n",
       "       False, False, False, False, False, False, False, False, False,\n",
       "       False, False, False, False, False, False, False, False, False,\n",
       "       False, False, False, False, False, False, False, False, False,\n",
       "       False, False, False, False, False, False, False, False, False,\n",
       "       False, False, False, False, False, False, False, False, False,\n",
       "       False, False, False, False, False, False, False, False, False,\n",
       "       False, False, False, False, False, False, False, False, False,\n",
       "       False, False, False, False, False, False, False, False, False,\n",
       "       False, False, False, False, False, False, False, False, False,\n",
       "       False, False, False, False, False, False, False, False, False,\n",
       "       False, False, False, False, False, False, False, False, False,\n",
       "       False, False, False, False, False, False, False, False, False,\n",
       "       False, False, False, False, False, False, False, False, False,\n",
       "       False, False,  True,  True,  True,  True,  True,  True,  True,\n",
       "        True,  True,  True,  True,  True,  True,  True,  True,  True,\n",
       "        True,  True,  True,  True,  True,  True,  True,  True,  True,\n",
       "        True,  True,  True,  True,  True,  True,  True,  True,  True,\n",
       "        True,  True,  True,  True,  True,  True,  True,  True,  True])"
      ]
     },
     "execution_count": 59,
     "metadata": {},
     "output_type": "execute_result"
    }
   ],
   "source": [
    "isvalid2"
   ]
  },
  {
   "cell_type": "code",
   "execution_count": 60,
   "metadata": {},
   "outputs": [],
   "source": [
    "np.save('is_val.npy',isvalid2)"
   ]
  },
  {
   "cell_type": "code",
   "execution_count": 28,
   "metadata": {},
   "outputs": [],
   "source": [
    "#np.array(valid).dump(open('is_val.npy','wb'))"
   ]
  },
  {
   "cell_type": "code",
   "execution_count": 29,
   "metadata": {},
   "outputs": [],
   "source": [
    "dff['is_valid'] = valid"
   ]
  },
  {
   "cell_type": "code",
   "execution_count": 30,
   "metadata": {},
   "outputs": [
    {
     "data": {
      "text/plain": [
       "423"
      ]
     },
     "execution_count": 30,
     "metadata": {},
     "output_type": "execute_result"
    }
   ],
   "source": [
    "len(dff)"
   ]
  },
  {
   "cell_type": "code",
   "execution_count": 31,
   "metadata": {},
   "outputs": [],
   "source": [
    "j=0\n",
    "seq=[]\n",
    "for i in range(len(dff)):\n",
    "    if(i%10==0):\n",
    "        j= j+1;\n",
    "    seq.append(j)"
   ]
  },
  {
   "cell_type": "code",
   "execution_count": 32,
   "metadata": {},
   "outputs": [],
   "source": [
    "dff['sequence'] = seq"
   ]
  },
  {
   "cell_type": "code",
   "execution_count": 33,
   "metadata": {},
   "outputs": [
    {
     "data": {
      "text/html": [
       "<div>\n",
       "<style scoped>\n",
       "    .dataframe tbody tr th:only-of-type {\n",
       "        vertical-align: middle;\n",
       "    }\n",
       "\n",
       "    .dataframe tbody tr th {\n",
       "        vertical-align: top;\n",
       "    }\n",
       "\n",
       "    .dataframe thead th {\n",
       "        text-align: right;\n",
       "    }\n",
       "</style>\n",
       "<table border=\"1\" class=\"dataframe\">\n",
       "  <thead>\n",
       "    <tr style=\"text-align: right;\">\n",
       "      <th></th>\n",
       "      <th>center_distance</th>\n",
       "      <th>hazard_stop</th>\n",
       "      <th>relative_angle</th>\n",
       "      <th>speed_sign</th>\n",
       "      <th>red_light</th>\n",
       "      <th>veh_distance</th>\n",
       "      <th>direction</th>\n",
       "      <th>im_name</th>\n",
       "      <th>is_valid</th>\n",
       "      <th>sequence</th>\n",
       "    </tr>\n",
       "  </thead>\n",
       "  <tbody>\n",
       "    <tr>\n",
       "      <th>0</th>\n",
       "      <td>0.367385968703215</td>\n",
       "      <td>False</td>\n",
       "      <td>-3.141586262</td>\n",
       "      <td>-1</td>\n",
       "      <td>False</td>\n",
       "      <td>50</td>\n",
       "      <td>0</td>\n",
       "      <td>image_00000.jpg.png</td>\n",
       "      <td>False</td>\n",
       "      <td>1</td>\n",
       "    </tr>\n",
       "    <tr>\n",
       "      <th>1</th>\n",
       "      <td>0.367385968703215</td>\n",
       "      <td>False</td>\n",
       "      <td>-3.141586262</td>\n",
       "      <td>-1</td>\n",
       "      <td>False</td>\n",
       "      <td>50</td>\n",
       "      <td>0</td>\n",
       "      <td>image_00001.jpg.png</td>\n",
       "      <td>False</td>\n",
       "      <td>1</td>\n",
       "    </tr>\n",
       "    <tr>\n",
       "      <th>2</th>\n",
       "      <td>0.367385968703215</td>\n",
       "      <td>False</td>\n",
       "      <td>-3.141586262</td>\n",
       "      <td>-1</td>\n",
       "      <td>False</td>\n",
       "      <td>50</td>\n",
       "      <td>0</td>\n",
       "      <td>image_00002.jpg.png</td>\n",
       "      <td>False</td>\n",
       "      <td>1</td>\n",
       "    </tr>\n",
       "    <tr>\n",
       "      <th>3</th>\n",
       "      <td>0.367385968703215</td>\n",
       "      <td>False</td>\n",
       "      <td>-3.141586262</td>\n",
       "      <td>-1</td>\n",
       "      <td>False</td>\n",
       "      <td>50</td>\n",
       "      <td>0</td>\n",
       "      <td>image_00003.jpg.png</td>\n",
       "      <td>False</td>\n",
       "      <td>1</td>\n",
       "    </tr>\n",
       "    <tr>\n",
       "      <th>4</th>\n",
       "      <td>0.367385968703215</td>\n",
       "      <td>False</td>\n",
       "      <td>-3.141586262</td>\n",
       "      <td>-1</td>\n",
       "      <td>False</td>\n",
       "      <td>50</td>\n",
       "      <td>0</td>\n",
       "      <td>image_00004.jpg.png</td>\n",
       "      <td>False</td>\n",
       "      <td>1</td>\n",
       "    </tr>\n",
       "  </tbody>\n",
       "</table>\n",
       "</div>"
      ],
      "text/plain": [
       "     center_distance hazard_stop relative_angle speed_sign  red_light  \\\n",
       "0  0.367385968703215       False   -3.141586262         -1      False   \n",
       "1  0.367385968703215       False   -3.141586262         -1      False   \n",
       "2  0.367385968703215       False   -3.141586262         -1      False   \n",
       "3  0.367385968703215       False   -3.141586262         -1      False   \n",
       "4  0.367385968703215       False   -3.141586262         -1      False   \n",
       "\n",
       "  veh_distance  direction              im_name  is_valid  sequence  \n",
       "0           50          0  image_00000.jpg.png     False         1  \n",
       "1           50          0  image_00001.jpg.png     False         1  \n",
       "2           50          0  image_00002.jpg.png     False         1  \n",
       "3           50          0  image_00003.jpg.png     False         1  \n",
       "4           50          0  image_00004.jpg.png     False         1  "
      ]
     },
     "execution_count": 33,
     "metadata": {},
     "output_type": "execute_result"
    }
   ],
   "source": [
    "dff.head()"
   ]
  },
  {
   "cell_type": "code",
   "execution_count": 34,
   "metadata": {},
   "outputs": [
    {
     "data": {
      "text/html": [
       "<div>\n",
       "<style scoped>\n",
       "    .dataframe tbody tr th:only-of-type {\n",
       "        vertical-align: middle;\n",
       "    }\n",
       "\n",
       "    .dataframe tbody tr th {\n",
       "        vertical-align: top;\n",
       "    }\n",
       "\n",
       "    .dataframe thead th {\n",
       "        text-align: right;\n",
       "    }\n",
       "</style>\n",
       "<table border=\"1\" class=\"dataframe\">\n",
       "  <thead>\n",
       "    <tr style=\"text-align: right;\">\n",
       "      <th></th>\n",
       "      <th>center_distance</th>\n",
       "      <th>hazard_stop</th>\n",
       "      <th>relative_angle</th>\n",
       "      <th>speed_sign</th>\n",
       "      <th>red_light</th>\n",
       "      <th>veh_distance</th>\n",
       "      <th>direction</th>\n",
       "      <th>im_name</th>\n",
       "      <th>is_valid</th>\n",
       "      <th>sequence</th>\n",
       "    </tr>\n",
       "  </thead>\n",
       "  <tbody>\n",
       "    <tr>\n",
       "      <th>418</th>\n",
       "      <td>0.9858</td>\n",
       "      <td>False</td>\n",
       "      <td>-1.66555878891</td>\n",
       "      <td>-1</td>\n",
       "      <td>False</td>\n",
       "      <td>6.38390503775</td>\n",
       "      <td>1</td>\n",
       "      <td>image_00418.jpg.png</td>\n",
       "      <td>True</td>\n",
       "      <td>42</td>\n",
       "    </tr>\n",
       "    <tr>\n",
       "      <th>419</th>\n",
       "      <td>0.999397883727997</td>\n",
       "      <td>False</td>\n",
       "      <td>-1.66356780968</td>\n",
       "      <td>-1</td>\n",
       "      <td>False</td>\n",
       "      <td>6.44054482488</td>\n",
       "      <td>1</td>\n",
       "      <td>image_00419.jpg.png</td>\n",
       "      <td>True</td>\n",
       "      <td>42</td>\n",
       "    </tr>\n",
       "    <tr>\n",
       "      <th>420</th>\n",
       "      <td>0.9858</td>\n",
       "      <td>False</td>\n",
       "      <td>-1.66215646746</td>\n",
       "      <td>-1</td>\n",
       "      <td>False</td>\n",
       "      <td>6.50791522533</td>\n",
       "      <td>1</td>\n",
       "      <td>image_00420.jpg.png</td>\n",
       "      <td>True</td>\n",
       "      <td>43</td>\n",
       "    </tr>\n",
       "    <tr>\n",
       "      <th>421</th>\n",
       "      <td>0.9858</td>\n",
       "      <td>False</td>\n",
       "      <td>-1.66094193285</td>\n",
       "      <td>-1</td>\n",
       "      <td>False</td>\n",
       "      <td>6.58661385634</td>\n",
       "      <td>1</td>\n",
       "      <td>image_00421.jpg.png</td>\n",
       "      <td>True</td>\n",
       "      <td>43</td>\n",
       "    </tr>\n",
       "    <tr>\n",
       "      <th>422</th>\n",
       "      <td>0.999397883727997</td>\n",
       "      <td>False</td>\n",
       "      <td>-1.65976068775</td>\n",
       "      <td>-1</td>\n",
       "      <td>False</td>\n",
       "      <td>6.67688177787</td>\n",
       "      <td>1</td>\n",
       "      <td>image_00422.jpg.png</td>\n",
       "      <td>True</td>\n",
       "      <td>43</td>\n",
       "    </tr>\n",
       "  </tbody>\n",
       "</table>\n",
       "</div>"
      ],
      "text/plain": [
       "       center_distance hazard_stop  relative_angle speed_sign  red_light  \\\n",
       "418             0.9858       False  -1.66555878891         -1      False   \n",
       "419  0.999397883727997       False  -1.66356780968         -1      False   \n",
       "420             0.9858       False  -1.66215646746         -1      False   \n",
       "421             0.9858       False  -1.66094193285         -1      False   \n",
       "422  0.999397883727997       False  -1.65976068775         -1      False   \n",
       "\n",
       "      veh_distance  direction              im_name  is_valid  sequence  \n",
       "418  6.38390503775          1  image_00418.jpg.png      True        42  \n",
       "419  6.44054482488          1  image_00419.jpg.png      True        42  \n",
       "420  6.50791522533          1  image_00420.jpg.png      True        43  \n",
       "421  6.58661385634          1  image_00421.jpg.png      True        43  \n",
       "422  6.67688177787          1  image_00422.jpg.png      True        43  "
      ]
     },
     "execution_count": 34,
     "metadata": {},
     "output_type": "execute_result"
    }
   ],
   "source": [
    "dff.tail()"
   ]
  },
  {
   "cell_type": "code",
   "execution_count": 35,
   "metadata": {},
   "outputs": [],
   "source": [
    "#export_csv = dff.to_csv (r'/home/vasu/Desktop/project/annotations.csv', index = None, header=True)"
   ]
  },
  {
   "cell_type": "code",
   "execution_count": 36,
   "metadata": {},
   "outputs": [
    {
     "data": {
      "text/plain": [
       "array([False, False, False, False, False, False, False, False, False,\n",
       "       False, False, False, False, False, False, False, False, False,\n",
       "       False, False, False, False, False, False, False, False, False,\n",
       "       False, False, False, False, False, False, False, False, False,\n",
       "       False, False, False, False, False, False, False, False, False,\n",
       "       False, False, False, False, False, False, False, False, False,\n",
       "       False, False, False, False, False, False, False, False, False,\n",
       "       False, False, False, False, False, False, False, False, False,\n",
       "       False, False, False, False, False, False, False, False, False,\n",
       "       False, False, False, False, False, False, False, False, False,\n",
       "       False, False, False, False, False, False, False, False, False,\n",
       "       False, False, False, False, False, False, False, False, False,\n",
       "       False, False, False, False, False, False, False, False, False,\n",
       "       False, False, False, False, False, False, False, False, False,\n",
       "       False, False, False, False, False, False, False, False, False,\n",
       "       False, False, False, False, False, False, False, False, False,\n",
       "       False, False, False, False, False, False, False, False, False,\n",
       "       False, False, False, False, False, False, False, False, False,\n",
       "       False, False, False, False, False, False, False, False, False,\n",
       "       False, False, False, False, False, False, False, False, False,\n",
       "       False, False, False, False, False, False, False, False, False,\n",
       "       False, False, False, False, False, False, False, False, False,\n",
       "       False, False, False, False, False, False, False, False, False,\n",
       "       False, False, False, False, False, False, False, False, False,\n",
       "       False, False, False, False, False, False, False, False, False,\n",
       "       False, False, False, False, False, False, False, False, False,\n",
       "       False, False, False, False, False, False, False, False, False,\n",
       "       False, False, False, False, False, False, False, False, False,\n",
       "       False, False, False, False, False, False, False, False, False,\n",
       "       False, False, False, False, False, False, False, False, False,\n",
       "       False, False, False, False, False, False, False, False, False,\n",
       "       False, False, False, False, False, False, False, False, False,\n",
       "       False, False, False, False, False, False, False, False, False,\n",
       "       False, False, False, False, False, False, False, False, False,\n",
       "       False, False, False, False, False, False, False, False, False,\n",
       "       False, False, False, False, False, False, False, False, False,\n",
       "       False, False, False, False, False, False, False, False, False,\n",
       "       False, False, False, False, False, False, False, False, False,\n",
       "       False, False, False, False, False, False, False, False, False,\n",
       "       False, False, False, False, False, False, False, False, False,\n",
       "       False, False, False, False, False, False, False, False, False,\n",
       "       False, False, False, False, False, False, False, False, False,\n",
       "       False, False,  True,  True,  True,  True,  True,  True,  True,\n",
       "        True,  True,  True,  True,  True,  True,  True,  True,  True,\n",
       "        True,  True,  True,  True,  True,  True,  True,  True,  True,\n",
       "        True,  True,  True,  True,  True,  True,  True,  True,  True,\n",
       "        True,  True,  True,  True,  True,  True,  True,  True,  True])"
      ]
     },
     "execution_count": 36,
     "metadata": {},
     "output_type": "execute_result"
    }
   ],
   "source": [
    "np.load(open('is_val.npy','rb'))"
   ]
  },
  {
   "cell_type": "code",
   "execution_count": 37,
   "metadata": {},
   "outputs": [],
   "source": [
    "x = np.array([1, 2, 4, 7, 0,6])"
   ]
  },
  {
   "cell_type": "code",
   "execution_count": 38,
   "metadata": {},
   "outputs": [
    {
     "data": {
      "text/plain": [
       "array([ 1,  2,  3, -7,  6])"
      ]
     },
     "execution_count": 38,
     "metadata": {},
     "output_type": "execute_result"
    }
   ],
   "source": [
    "np.diff(x)"
   ]
  },
  {
   "cell_type": "code",
   "execution_count": 39,
   "metadata": {},
   "outputs": [
    {
     "data": {
      "text/plain": [
       "array([[1, 2, 3, 4, 5]])"
      ]
     },
     "execution_count": 39,
     "metadata": {},
     "output_type": "execute_result"
    }
   ],
   "source": [
    "np.where(np.diff(x))+np.array(1)"
   ]
  },
  {
   "cell_type": "code",
   "execution_count": 40,
   "metadata": {},
   "outputs": [
    {
     "data": {
      "text/plain": [
       "array(1)"
      ]
     },
     "execution_count": 40,
     "metadata": {},
     "output_type": "execute_result"
    }
   ],
   "source": [
    "np.array(1)"
   ]
  },
  {
   "cell_type": "code",
   "execution_count": 41,
   "metadata": {},
   "outputs": [
    {
     "data": {
      "text/plain": [
       "array([1, 2, 3, 4, 5])"
      ]
     },
     "execution_count": 41,
     "metadata": {},
     "output_type": "execute_result"
    }
   ],
   "source": [
    "np.squeeze(np.where(np.diff(x))+np.array(1))"
   ]
  },
  {
   "cell_type": "code",
   "execution_count": 42,
   "metadata": {},
   "outputs": [],
   "source": [
    "dff['seq_id'] = dff.index"
   ]
  },
  {
   "cell_type": "code",
   "execution_count": 43,
   "metadata": {},
   "outputs": [
    {
     "data": {
      "text/html": [
       "<div>\n",
       "<style scoped>\n",
       "    .dataframe tbody tr th:only-of-type {\n",
       "        vertical-align: middle;\n",
       "    }\n",
       "\n",
       "    .dataframe tbody tr th {\n",
       "        vertical-align: top;\n",
       "    }\n",
       "\n",
       "    .dataframe thead th {\n",
       "        text-align: right;\n",
       "    }\n",
       "</style>\n",
       "<table border=\"1\" class=\"dataframe\">\n",
       "  <thead>\n",
       "    <tr style=\"text-align: right;\">\n",
       "      <th></th>\n",
       "      <th>center_distance</th>\n",
       "      <th>hazard_stop</th>\n",
       "      <th>relative_angle</th>\n",
       "      <th>speed_sign</th>\n",
       "      <th>red_light</th>\n",
       "      <th>veh_distance</th>\n",
       "      <th>direction</th>\n",
       "      <th>im_name</th>\n",
       "      <th>is_valid</th>\n",
       "      <th>sequence</th>\n",
       "      <th>seq_id</th>\n",
       "    </tr>\n",
       "  </thead>\n",
       "  <tbody>\n",
       "    <tr>\n",
       "      <th>0</th>\n",
       "      <td>0.367385968703215</td>\n",
       "      <td>False</td>\n",
       "      <td>-3.141586262</td>\n",
       "      <td>-1</td>\n",
       "      <td>False</td>\n",
       "      <td>50</td>\n",
       "      <td>0</td>\n",
       "      <td>image_00000.jpg.png</td>\n",
       "      <td>False</td>\n",
       "      <td>1</td>\n",
       "      <td>0</td>\n",
       "    </tr>\n",
       "    <tr>\n",
       "      <th>1</th>\n",
       "      <td>0.367385968703215</td>\n",
       "      <td>False</td>\n",
       "      <td>-3.141586262</td>\n",
       "      <td>-1</td>\n",
       "      <td>False</td>\n",
       "      <td>50</td>\n",
       "      <td>0</td>\n",
       "      <td>image_00001.jpg.png</td>\n",
       "      <td>False</td>\n",
       "      <td>1</td>\n",
       "      <td>1</td>\n",
       "    </tr>\n",
       "    <tr>\n",
       "      <th>2</th>\n",
       "      <td>0.367385968703215</td>\n",
       "      <td>False</td>\n",
       "      <td>-3.141586262</td>\n",
       "      <td>-1</td>\n",
       "      <td>False</td>\n",
       "      <td>50</td>\n",
       "      <td>0</td>\n",
       "      <td>image_00002.jpg.png</td>\n",
       "      <td>False</td>\n",
       "      <td>1</td>\n",
       "      <td>2</td>\n",
       "    </tr>\n",
       "    <tr>\n",
       "      <th>3</th>\n",
       "      <td>0.367385968703215</td>\n",
       "      <td>False</td>\n",
       "      <td>-3.141586262</td>\n",
       "      <td>-1</td>\n",
       "      <td>False</td>\n",
       "      <td>50</td>\n",
       "      <td>0</td>\n",
       "      <td>image_00003.jpg.png</td>\n",
       "      <td>False</td>\n",
       "      <td>1</td>\n",
       "      <td>3</td>\n",
       "    </tr>\n",
       "    <tr>\n",
       "      <th>4</th>\n",
       "      <td>0.367385968703215</td>\n",
       "      <td>False</td>\n",
       "      <td>-3.141586262</td>\n",
       "      <td>-1</td>\n",
       "      <td>False</td>\n",
       "      <td>50</td>\n",
       "      <td>0</td>\n",
       "      <td>image_00004.jpg.png</td>\n",
       "      <td>False</td>\n",
       "      <td>1</td>\n",
       "      <td>4</td>\n",
       "    </tr>\n",
       "  </tbody>\n",
       "</table>\n",
       "</div>"
      ],
      "text/plain": [
       "     center_distance hazard_stop relative_angle speed_sign  red_light  \\\n",
       "0  0.367385968703215       False   -3.141586262         -1      False   \n",
       "1  0.367385968703215       False   -3.141586262         -1      False   \n",
       "2  0.367385968703215       False   -3.141586262         -1      False   \n",
       "3  0.367385968703215       False   -3.141586262         -1      False   \n",
       "4  0.367385968703215       False   -3.141586262         -1      False   \n",
       "\n",
       "  veh_distance  direction              im_name  is_valid  sequence  seq_id  \n",
       "0           50          0  image_00000.jpg.png     False         1       0  \n",
       "1           50          0  image_00001.jpg.png     False         1       1  \n",
       "2           50          0  image_00002.jpg.png     False         1       2  \n",
       "3           50          0  image_00003.jpg.png     False         1       3  \n",
       "4           50          0  image_00004.jpg.png     False         1       4  "
      ]
     },
     "execution_count": 43,
     "metadata": {},
     "output_type": "execute_result"
    }
   ],
   "source": [
    "dff.head()"
   ]
  },
  {
   "cell_type": "code",
   "execution_count": 44,
   "metadata": {},
   "outputs": [],
   "source": [
    "export_csv = dff.to_csv (r'/home/vasu/Desktop/project/annotations.csv', index = None, header=True)"
   ]
  },
  {
   "cell_type": "code",
   "execution_count": null,
   "metadata": {},
   "outputs": [],
   "source": []
  },
  {
   "cell_type": "code",
   "execution_count": null,
   "metadata": {},
   "outputs": [],
   "source": []
  },
  {
   "cell_type": "code",
   "execution_count": null,
   "metadata": {},
   "outputs": [],
   "source": []
  },
  {
   "cell_type": "code",
   "execution_count": null,
   "metadata": {},
   "outputs": [],
   "source": []
  },
  {
   "cell_type": "code",
   "execution_count": null,
   "metadata": {},
   "outputs": [],
   "source": []
  },
  {
   "cell_type": "code",
   "execution_count": null,
   "metadata": {},
   "outputs": [],
   "source": []
  },
  {
   "cell_type": "code",
   "execution_count": null,
   "metadata": {},
   "outputs": [],
   "source": []
  },
  {
   "cell_type": "code",
   "execution_count": null,
   "metadata": {},
   "outputs": [],
   "source": []
  },
  {
   "cell_type": "code",
   "execution_count": null,
   "metadata": {},
   "outputs": [],
   "source": []
  },
  {
   "cell_type": "code",
   "execution_count": null,
   "metadata": {},
   "outputs": [],
   "source": []
  },
  {
   "cell_type": "code",
   "execution_count": null,
   "metadata": {},
   "outputs": [],
   "source": []
  },
  {
   "cell_type": "code",
   "execution_count": null,
   "metadata": {},
   "outputs": [],
   "source": []
  }
 ],
 "metadata": {
  "kernelspec": {
   "display_name": "Python 3",
   "language": "python",
   "name": "python3"
  },
  "language_info": {
   "codemirror_mode": {
    "name": "ipython",
    "version": 3
   },
   "file_extension": ".py",
   "mimetype": "text/x-python",
   "name": "python",
   "nbconvert_exporter": "python",
   "pygments_lexer": "ipython3",
   "version": "3.5.2"
  }
 },
 "nbformat": 4,
 "nbformat_minor": 2
}
